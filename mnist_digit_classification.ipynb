{
  "nbformat": 4,
  "nbformat_minor": 0,
  "metadata": {
    "colab": {
      "provenance": [],
      "gpuType": "T4"
    },
    "kernelspec": {
      "name": "python3",
      "display_name": "Python 3"
    },
    "language_info": {
      "name": "python"
    },
    "accelerator": "GPU",
    "widgets": {
      "application/vnd.jupyter.widget-state+json": {
        "fb6be1a3b4ba4b9bac5097b1d5d91ca6": {
          "model_module": "@jupyter-widgets/controls",
          "model_name": "HBoxModel",
          "model_module_version": "1.5.0",
          "state": {
            "_dom_classes": [],
            "_model_module": "@jupyter-widgets/controls",
            "_model_module_version": "1.5.0",
            "_model_name": "HBoxModel",
            "_view_count": null,
            "_view_module": "@jupyter-widgets/controls",
            "_view_module_version": "1.5.0",
            "_view_name": "HBoxView",
            "box_style": "",
            "children": [
              "IPY_MODEL_68d1d4500d014189bc173e01705ff907",
              "IPY_MODEL_b4ff40134ca0499aa91635fd463b55b9",
              "IPY_MODEL_3564976b626949e8b43b3257ffd6aaf5"
            ],
            "layout": "IPY_MODEL_7cc2bdb23b4940a9a1c56d2a556e59c4"
          }
        },
        "68d1d4500d014189bc173e01705ff907": {
          "model_module": "@jupyter-widgets/controls",
          "model_name": "HTMLModel",
          "model_module_version": "1.5.0",
          "state": {
            "_dom_classes": [],
            "_model_module": "@jupyter-widgets/controls",
            "_model_module_version": "1.5.0",
            "_model_name": "HTMLModel",
            "_view_count": null,
            "_view_module": "@jupyter-widgets/controls",
            "_view_module_version": "1.5.0",
            "_view_name": "HTMLView",
            "description": "",
            "description_tooltip": null,
            "layout": "IPY_MODEL_0171e31cc3d542f58702840148ee3c04",
            "placeholder": "​",
            "style": "IPY_MODEL_24ad9ca88c5a4dfeaee8447b63d5aa5e",
            "value": "100%"
          }
        },
        "b4ff40134ca0499aa91635fd463b55b9": {
          "model_module": "@jupyter-widgets/controls",
          "model_name": "FloatProgressModel",
          "model_module_version": "1.5.0",
          "state": {
            "_dom_classes": [],
            "_model_module": "@jupyter-widgets/controls",
            "_model_module_version": "1.5.0",
            "_model_name": "FloatProgressModel",
            "_view_count": null,
            "_view_module": "@jupyter-widgets/controls",
            "_view_module_version": "1.5.0",
            "_view_name": "ProgressView",
            "bar_style": "success",
            "description": "",
            "description_tooltip": null,
            "layout": "IPY_MODEL_53d3fa770c514ea28f110eb362f184c5",
            "max": 7,
            "min": 0,
            "orientation": "horizontal",
            "style": "IPY_MODEL_6db80ababd33451c96cc5b3474a9184f",
            "value": 7
          }
        },
        "3564976b626949e8b43b3257ffd6aaf5": {
          "model_module": "@jupyter-widgets/controls",
          "model_name": "HTMLModel",
          "model_module_version": "1.5.0",
          "state": {
            "_dom_classes": [],
            "_model_module": "@jupyter-widgets/controls",
            "_model_module_version": "1.5.0",
            "_model_name": "HTMLModel",
            "_view_count": null,
            "_view_module": "@jupyter-widgets/controls",
            "_view_module_version": "1.5.0",
            "_view_name": "HTMLView",
            "description": "",
            "description_tooltip": null,
            "layout": "IPY_MODEL_af32e6686b7c4261aa0d38dd2ba1c136",
            "placeholder": "​",
            "style": "IPY_MODEL_5ae4c66ffd394e008477a7758eaca01d",
            "value": " 7/7 [01:32&lt;00:00, 13.14s/it]"
          }
        },
        "7cc2bdb23b4940a9a1c56d2a556e59c4": {
          "model_module": "@jupyter-widgets/base",
          "model_name": "LayoutModel",
          "model_module_version": "1.2.0",
          "state": {
            "_model_module": "@jupyter-widgets/base",
            "_model_module_version": "1.2.0",
            "_model_name": "LayoutModel",
            "_view_count": null,
            "_view_module": "@jupyter-widgets/base",
            "_view_module_version": "1.2.0",
            "_view_name": "LayoutView",
            "align_content": null,
            "align_items": null,
            "align_self": null,
            "border": null,
            "bottom": null,
            "display": null,
            "flex": null,
            "flex_flow": null,
            "grid_area": null,
            "grid_auto_columns": null,
            "grid_auto_flow": null,
            "grid_auto_rows": null,
            "grid_column": null,
            "grid_gap": null,
            "grid_row": null,
            "grid_template_areas": null,
            "grid_template_columns": null,
            "grid_template_rows": null,
            "height": null,
            "justify_content": null,
            "justify_items": null,
            "left": null,
            "margin": null,
            "max_height": null,
            "max_width": null,
            "min_height": null,
            "min_width": null,
            "object_fit": null,
            "object_position": null,
            "order": null,
            "overflow": null,
            "overflow_x": null,
            "overflow_y": null,
            "padding": null,
            "right": null,
            "top": null,
            "visibility": null,
            "width": null
          }
        },
        "0171e31cc3d542f58702840148ee3c04": {
          "model_module": "@jupyter-widgets/base",
          "model_name": "LayoutModel",
          "model_module_version": "1.2.0",
          "state": {
            "_model_module": "@jupyter-widgets/base",
            "_model_module_version": "1.2.0",
            "_model_name": "LayoutModel",
            "_view_count": null,
            "_view_module": "@jupyter-widgets/base",
            "_view_module_version": "1.2.0",
            "_view_name": "LayoutView",
            "align_content": null,
            "align_items": null,
            "align_self": null,
            "border": null,
            "bottom": null,
            "display": null,
            "flex": null,
            "flex_flow": null,
            "grid_area": null,
            "grid_auto_columns": null,
            "grid_auto_flow": null,
            "grid_auto_rows": null,
            "grid_column": null,
            "grid_gap": null,
            "grid_row": null,
            "grid_template_areas": null,
            "grid_template_columns": null,
            "grid_template_rows": null,
            "height": null,
            "justify_content": null,
            "justify_items": null,
            "left": null,
            "margin": null,
            "max_height": null,
            "max_width": null,
            "min_height": null,
            "min_width": null,
            "object_fit": null,
            "object_position": null,
            "order": null,
            "overflow": null,
            "overflow_x": null,
            "overflow_y": null,
            "padding": null,
            "right": null,
            "top": null,
            "visibility": null,
            "width": null
          }
        },
        "24ad9ca88c5a4dfeaee8447b63d5aa5e": {
          "model_module": "@jupyter-widgets/controls",
          "model_name": "DescriptionStyleModel",
          "model_module_version": "1.5.0",
          "state": {
            "_model_module": "@jupyter-widgets/controls",
            "_model_module_version": "1.5.0",
            "_model_name": "DescriptionStyleModel",
            "_view_count": null,
            "_view_module": "@jupyter-widgets/base",
            "_view_module_version": "1.2.0",
            "_view_name": "StyleView",
            "description_width": ""
          }
        },
        "53d3fa770c514ea28f110eb362f184c5": {
          "model_module": "@jupyter-widgets/base",
          "model_name": "LayoutModel",
          "model_module_version": "1.2.0",
          "state": {
            "_model_module": "@jupyter-widgets/base",
            "_model_module_version": "1.2.0",
            "_model_name": "LayoutModel",
            "_view_count": null,
            "_view_module": "@jupyter-widgets/base",
            "_view_module_version": "1.2.0",
            "_view_name": "LayoutView",
            "align_content": null,
            "align_items": null,
            "align_self": null,
            "border": null,
            "bottom": null,
            "display": null,
            "flex": null,
            "flex_flow": null,
            "grid_area": null,
            "grid_auto_columns": null,
            "grid_auto_flow": null,
            "grid_auto_rows": null,
            "grid_column": null,
            "grid_gap": null,
            "grid_row": null,
            "grid_template_areas": null,
            "grid_template_columns": null,
            "grid_template_rows": null,
            "height": null,
            "justify_content": null,
            "justify_items": null,
            "left": null,
            "margin": null,
            "max_height": null,
            "max_width": null,
            "min_height": null,
            "min_width": null,
            "object_fit": null,
            "object_position": null,
            "order": null,
            "overflow": null,
            "overflow_x": null,
            "overflow_y": null,
            "padding": null,
            "right": null,
            "top": null,
            "visibility": null,
            "width": null
          }
        },
        "6db80ababd33451c96cc5b3474a9184f": {
          "model_module": "@jupyter-widgets/controls",
          "model_name": "ProgressStyleModel",
          "model_module_version": "1.5.0",
          "state": {
            "_model_module": "@jupyter-widgets/controls",
            "_model_module_version": "1.5.0",
            "_model_name": "ProgressStyleModel",
            "_view_count": null,
            "_view_module": "@jupyter-widgets/base",
            "_view_module_version": "1.2.0",
            "_view_name": "StyleView",
            "bar_color": null,
            "description_width": ""
          }
        },
        "af32e6686b7c4261aa0d38dd2ba1c136": {
          "model_module": "@jupyter-widgets/base",
          "model_name": "LayoutModel",
          "model_module_version": "1.2.0",
          "state": {
            "_model_module": "@jupyter-widgets/base",
            "_model_module_version": "1.2.0",
            "_model_name": "LayoutModel",
            "_view_count": null,
            "_view_module": "@jupyter-widgets/base",
            "_view_module_version": "1.2.0",
            "_view_name": "LayoutView",
            "align_content": null,
            "align_items": null,
            "align_self": null,
            "border": null,
            "bottom": null,
            "display": null,
            "flex": null,
            "flex_flow": null,
            "grid_area": null,
            "grid_auto_columns": null,
            "grid_auto_flow": null,
            "grid_auto_rows": null,
            "grid_column": null,
            "grid_gap": null,
            "grid_row": null,
            "grid_template_areas": null,
            "grid_template_columns": null,
            "grid_template_rows": null,
            "height": null,
            "justify_content": null,
            "justify_items": null,
            "left": null,
            "margin": null,
            "max_height": null,
            "max_width": null,
            "min_height": null,
            "min_width": null,
            "object_fit": null,
            "object_position": null,
            "order": null,
            "overflow": null,
            "overflow_x": null,
            "overflow_y": null,
            "padding": null,
            "right": null,
            "top": null,
            "visibility": null,
            "width": null
          }
        },
        "5ae4c66ffd394e008477a7758eaca01d": {
          "model_module": "@jupyter-widgets/controls",
          "model_name": "DescriptionStyleModel",
          "model_module_version": "1.5.0",
          "state": {
            "_model_module": "@jupyter-widgets/controls",
            "_model_module_version": "1.5.0",
            "_model_name": "DescriptionStyleModel",
            "_view_count": null,
            "_view_module": "@jupyter-widgets/base",
            "_view_module_version": "1.2.0",
            "_view_name": "StyleView",
            "description_width": ""
          }
        },
        "5ef865e1863e4ef6b02ef504e410ca4b": {
          "model_module": "@jupyter-widgets/controls",
          "model_name": "HBoxModel",
          "model_module_version": "1.5.0",
          "state": {
            "_dom_classes": [],
            "_model_module": "@jupyter-widgets/controls",
            "_model_module_version": "1.5.0",
            "_model_name": "HBoxModel",
            "_view_count": null,
            "_view_module": "@jupyter-widgets/controls",
            "_view_module_version": "1.5.0",
            "_view_name": "HBoxView",
            "box_style": "",
            "children": [
              "IPY_MODEL_14fadc5148d64e7e81a715e00b4eb731",
              "IPY_MODEL_5977404161f844d899097b7942749f50",
              "IPY_MODEL_b3044cea25b64215bf9ab301762b97f4"
            ],
            "layout": "IPY_MODEL_5fe4a721e73a4a60bacc01706a9c0b42"
          }
        },
        "14fadc5148d64e7e81a715e00b4eb731": {
          "model_module": "@jupyter-widgets/controls",
          "model_name": "HTMLModel",
          "model_module_version": "1.5.0",
          "state": {
            "_dom_classes": [],
            "_model_module": "@jupyter-widgets/controls",
            "_model_module_version": "1.5.0",
            "_model_name": "HTMLModel",
            "_view_count": null,
            "_view_module": "@jupyter-widgets/controls",
            "_view_module_version": "1.5.0",
            "_view_name": "HTMLView",
            "description": "",
            "description_tooltip": null,
            "layout": "IPY_MODEL_05fd1e6173824cb8b89115ebb450aa6f",
            "placeholder": "​",
            "style": "IPY_MODEL_99960d1a2aef4d8cbe1eefdce7a32d41",
            "value": "100%"
          }
        },
        "5977404161f844d899097b7942749f50": {
          "model_module": "@jupyter-widgets/controls",
          "model_name": "FloatProgressModel",
          "model_module_version": "1.5.0",
          "state": {
            "_dom_classes": [],
            "_model_module": "@jupyter-widgets/controls",
            "_model_module_version": "1.5.0",
            "_model_name": "FloatProgressModel",
            "_view_count": null,
            "_view_module": "@jupyter-widgets/controls",
            "_view_module_version": "1.5.0",
            "_view_name": "ProgressView",
            "bar_style": "success",
            "description": "",
            "description_tooltip": null,
            "layout": "IPY_MODEL_8764e551dd6c4d91b94f3a0b84b3cba9",
            "max": 7,
            "min": 0,
            "orientation": "horizontal",
            "style": "IPY_MODEL_c66554355c7849faabd4e9993b645f6a",
            "value": 7
          }
        },
        "b3044cea25b64215bf9ab301762b97f4": {
          "model_module": "@jupyter-widgets/controls",
          "model_name": "HTMLModel",
          "model_module_version": "1.5.0",
          "state": {
            "_dom_classes": [],
            "_model_module": "@jupyter-widgets/controls",
            "_model_module_version": "1.5.0",
            "_model_name": "HTMLModel",
            "_view_count": null,
            "_view_module": "@jupyter-widgets/controls",
            "_view_module_version": "1.5.0",
            "_view_name": "HTMLView",
            "description": "",
            "description_tooltip": null,
            "layout": "IPY_MODEL_bc659e1101164ac8aa3befa5ae419eef",
            "placeholder": "​",
            "style": "IPY_MODEL_2ee66362480f46938ab289d9c34c52cb",
            "value": " 7/7 [01:45&lt;00:00, 14.81s/it]"
          }
        },
        "5fe4a721e73a4a60bacc01706a9c0b42": {
          "model_module": "@jupyter-widgets/base",
          "model_name": "LayoutModel",
          "model_module_version": "1.2.0",
          "state": {
            "_model_module": "@jupyter-widgets/base",
            "_model_module_version": "1.2.0",
            "_model_name": "LayoutModel",
            "_view_count": null,
            "_view_module": "@jupyter-widgets/base",
            "_view_module_version": "1.2.0",
            "_view_name": "LayoutView",
            "align_content": null,
            "align_items": null,
            "align_self": null,
            "border": null,
            "bottom": null,
            "display": null,
            "flex": null,
            "flex_flow": null,
            "grid_area": null,
            "grid_auto_columns": null,
            "grid_auto_flow": null,
            "grid_auto_rows": null,
            "grid_column": null,
            "grid_gap": null,
            "grid_row": null,
            "grid_template_areas": null,
            "grid_template_columns": null,
            "grid_template_rows": null,
            "height": null,
            "justify_content": null,
            "justify_items": null,
            "left": null,
            "margin": null,
            "max_height": null,
            "max_width": null,
            "min_height": null,
            "min_width": null,
            "object_fit": null,
            "object_position": null,
            "order": null,
            "overflow": null,
            "overflow_x": null,
            "overflow_y": null,
            "padding": null,
            "right": null,
            "top": null,
            "visibility": null,
            "width": null
          }
        },
        "05fd1e6173824cb8b89115ebb450aa6f": {
          "model_module": "@jupyter-widgets/base",
          "model_name": "LayoutModel",
          "model_module_version": "1.2.0",
          "state": {
            "_model_module": "@jupyter-widgets/base",
            "_model_module_version": "1.2.0",
            "_model_name": "LayoutModel",
            "_view_count": null,
            "_view_module": "@jupyter-widgets/base",
            "_view_module_version": "1.2.0",
            "_view_name": "LayoutView",
            "align_content": null,
            "align_items": null,
            "align_self": null,
            "border": null,
            "bottom": null,
            "display": null,
            "flex": null,
            "flex_flow": null,
            "grid_area": null,
            "grid_auto_columns": null,
            "grid_auto_flow": null,
            "grid_auto_rows": null,
            "grid_column": null,
            "grid_gap": null,
            "grid_row": null,
            "grid_template_areas": null,
            "grid_template_columns": null,
            "grid_template_rows": null,
            "height": null,
            "justify_content": null,
            "justify_items": null,
            "left": null,
            "margin": null,
            "max_height": null,
            "max_width": null,
            "min_height": null,
            "min_width": null,
            "object_fit": null,
            "object_position": null,
            "order": null,
            "overflow": null,
            "overflow_x": null,
            "overflow_y": null,
            "padding": null,
            "right": null,
            "top": null,
            "visibility": null,
            "width": null
          }
        },
        "99960d1a2aef4d8cbe1eefdce7a32d41": {
          "model_module": "@jupyter-widgets/controls",
          "model_name": "DescriptionStyleModel",
          "model_module_version": "1.5.0",
          "state": {
            "_model_module": "@jupyter-widgets/controls",
            "_model_module_version": "1.5.0",
            "_model_name": "DescriptionStyleModel",
            "_view_count": null,
            "_view_module": "@jupyter-widgets/base",
            "_view_module_version": "1.2.0",
            "_view_name": "StyleView",
            "description_width": ""
          }
        },
        "8764e551dd6c4d91b94f3a0b84b3cba9": {
          "model_module": "@jupyter-widgets/base",
          "model_name": "LayoutModel",
          "model_module_version": "1.2.0",
          "state": {
            "_model_module": "@jupyter-widgets/base",
            "_model_module_version": "1.2.0",
            "_model_name": "LayoutModel",
            "_view_count": null,
            "_view_module": "@jupyter-widgets/base",
            "_view_module_version": "1.2.0",
            "_view_name": "LayoutView",
            "align_content": null,
            "align_items": null,
            "align_self": null,
            "border": null,
            "bottom": null,
            "display": null,
            "flex": null,
            "flex_flow": null,
            "grid_area": null,
            "grid_auto_columns": null,
            "grid_auto_flow": null,
            "grid_auto_rows": null,
            "grid_column": null,
            "grid_gap": null,
            "grid_row": null,
            "grid_template_areas": null,
            "grid_template_columns": null,
            "grid_template_rows": null,
            "height": null,
            "justify_content": null,
            "justify_items": null,
            "left": null,
            "margin": null,
            "max_height": null,
            "max_width": null,
            "min_height": null,
            "min_width": null,
            "object_fit": null,
            "object_position": null,
            "order": null,
            "overflow": null,
            "overflow_x": null,
            "overflow_y": null,
            "padding": null,
            "right": null,
            "top": null,
            "visibility": null,
            "width": null
          }
        },
        "c66554355c7849faabd4e9993b645f6a": {
          "model_module": "@jupyter-widgets/controls",
          "model_name": "ProgressStyleModel",
          "model_module_version": "1.5.0",
          "state": {
            "_model_module": "@jupyter-widgets/controls",
            "_model_module_version": "1.5.0",
            "_model_name": "ProgressStyleModel",
            "_view_count": null,
            "_view_module": "@jupyter-widgets/base",
            "_view_module_version": "1.2.0",
            "_view_name": "StyleView",
            "bar_color": null,
            "description_width": ""
          }
        },
        "bc659e1101164ac8aa3befa5ae419eef": {
          "model_module": "@jupyter-widgets/base",
          "model_name": "LayoutModel",
          "model_module_version": "1.2.0",
          "state": {
            "_model_module": "@jupyter-widgets/base",
            "_model_module_version": "1.2.0",
            "_model_name": "LayoutModel",
            "_view_count": null,
            "_view_module": "@jupyter-widgets/base",
            "_view_module_version": "1.2.0",
            "_view_name": "LayoutView",
            "align_content": null,
            "align_items": null,
            "align_self": null,
            "border": null,
            "bottom": null,
            "display": null,
            "flex": null,
            "flex_flow": null,
            "grid_area": null,
            "grid_auto_columns": null,
            "grid_auto_flow": null,
            "grid_auto_rows": null,
            "grid_column": null,
            "grid_gap": null,
            "grid_row": null,
            "grid_template_areas": null,
            "grid_template_columns": null,
            "grid_template_rows": null,
            "height": null,
            "justify_content": null,
            "justify_items": null,
            "left": null,
            "margin": null,
            "max_height": null,
            "max_width": null,
            "min_height": null,
            "min_width": null,
            "object_fit": null,
            "object_position": null,
            "order": null,
            "overflow": null,
            "overflow_x": null,
            "overflow_y": null,
            "padding": null,
            "right": null,
            "top": null,
            "visibility": null,
            "width": null
          }
        },
        "2ee66362480f46938ab289d9c34c52cb": {
          "model_module": "@jupyter-widgets/controls",
          "model_name": "DescriptionStyleModel",
          "model_module_version": "1.5.0",
          "state": {
            "_model_module": "@jupyter-widgets/controls",
            "_model_module_version": "1.5.0",
            "_model_name": "DescriptionStyleModel",
            "_view_count": null,
            "_view_module": "@jupyter-widgets/base",
            "_view_module_version": "1.2.0",
            "_view_name": "StyleView",
            "description_width": ""
          }
        },
        "41bce9f91578421192ac80d340470d62": {
          "model_module": "@jupyter-widgets/controls",
          "model_name": "HBoxModel",
          "model_module_version": "1.5.0",
          "state": {
            "_dom_classes": [],
            "_model_module": "@jupyter-widgets/controls",
            "_model_module_version": "1.5.0",
            "_model_name": "HBoxModel",
            "_view_count": null,
            "_view_module": "@jupyter-widgets/controls",
            "_view_module_version": "1.5.0",
            "_view_name": "HBoxView",
            "box_style": "",
            "children": [
              "IPY_MODEL_f93bc5c3756248b3a590581d2de2755d",
              "IPY_MODEL_6fcb70c66b3d411bab848b6c269c88e4",
              "IPY_MODEL_a6d4154f103e472ca8516239d0d0fd4d"
            ],
            "layout": "IPY_MODEL_25213afded3d4b91ab4cf36db5ee7662"
          }
        },
        "f93bc5c3756248b3a590581d2de2755d": {
          "model_module": "@jupyter-widgets/controls",
          "model_name": "HTMLModel",
          "model_module_version": "1.5.0",
          "state": {
            "_dom_classes": [],
            "_model_module": "@jupyter-widgets/controls",
            "_model_module_version": "1.5.0",
            "_model_name": "HTMLModel",
            "_view_count": null,
            "_view_module": "@jupyter-widgets/controls",
            "_view_module_version": "1.5.0",
            "_view_name": "HTMLView",
            "description": "",
            "description_tooltip": null,
            "layout": "IPY_MODEL_e0041b0bb95f47d39e48d20ba62240b2",
            "placeholder": "​",
            "style": "IPY_MODEL_ca1fbb148ec54f2fa818f48cd222fdfa",
            "value": "100%"
          }
        },
        "6fcb70c66b3d411bab848b6c269c88e4": {
          "model_module": "@jupyter-widgets/controls",
          "model_name": "FloatProgressModel",
          "model_module_version": "1.5.0",
          "state": {
            "_dom_classes": [],
            "_model_module": "@jupyter-widgets/controls",
            "_model_module_version": "1.5.0",
            "_model_name": "FloatProgressModel",
            "_view_count": null,
            "_view_module": "@jupyter-widgets/controls",
            "_view_module_version": "1.5.0",
            "_view_name": "ProgressView",
            "bar_style": "success",
            "description": "",
            "description_tooltip": null,
            "layout": "IPY_MODEL_235688dd19ee4ecdb9a5380c753a705f",
            "max": 8,
            "min": 0,
            "orientation": "horizontal",
            "style": "IPY_MODEL_a0baf730e54244008a9a3296822b990f",
            "value": 8
          }
        },
        "a6d4154f103e472ca8516239d0d0fd4d": {
          "model_module": "@jupyter-widgets/controls",
          "model_name": "HTMLModel",
          "model_module_version": "1.5.0",
          "state": {
            "_dom_classes": [],
            "_model_module": "@jupyter-widgets/controls",
            "_model_module_version": "1.5.0",
            "_model_name": "HTMLModel",
            "_view_count": null,
            "_view_module": "@jupyter-widgets/controls",
            "_view_module_version": "1.5.0",
            "_view_name": "HTMLView",
            "description": "",
            "description_tooltip": null,
            "layout": "IPY_MODEL_41e1b259c15f406faffd73151c1b70fc",
            "placeholder": "​",
            "style": "IPY_MODEL_4a7f7c6398a84fae997f4b3961d2d44a",
            "value": " 8/8 [01:45&lt;00:00, 13.20s/it]"
          }
        },
        "25213afded3d4b91ab4cf36db5ee7662": {
          "model_module": "@jupyter-widgets/base",
          "model_name": "LayoutModel",
          "model_module_version": "1.2.0",
          "state": {
            "_model_module": "@jupyter-widgets/base",
            "_model_module_version": "1.2.0",
            "_model_name": "LayoutModel",
            "_view_count": null,
            "_view_module": "@jupyter-widgets/base",
            "_view_module_version": "1.2.0",
            "_view_name": "LayoutView",
            "align_content": null,
            "align_items": null,
            "align_self": null,
            "border": null,
            "bottom": null,
            "display": null,
            "flex": null,
            "flex_flow": null,
            "grid_area": null,
            "grid_auto_columns": null,
            "grid_auto_flow": null,
            "grid_auto_rows": null,
            "grid_column": null,
            "grid_gap": null,
            "grid_row": null,
            "grid_template_areas": null,
            "grid_template_columns": null,
            "grid_template_rows": null,
            "height": null,
            "justify_content": null,
            "justify_items": null,
            "left": null,
            "margin": null,
            "max_height": null,
            "max_width": null,
            "min_height": null,
            "min_width": null,
            "object_fit": null,
            "object_position": null,
            "order": null,
            "overflow": null,
            "overflow_x": null,
            "overflow_y": null,
            "padding": null,
            "right": null,
            "top": null,
            "visibility": null,
            "width": null
          }
        },
        "e0041b0bb95f47d39e48d20ba62240b2": {
          "model_module": "@jupyter-widgets/base",
          "model_name": "LayoutModel",
          "model_module_version": "1.2.0",
          "state": {
            "_model_module": "@jupyter-widgets/base",
            "_model_module_version": "1.2.0",
            "_model_name": "LayoutModel",
            "_view_count": null,
            "_view_module": "@jupyter-widgets/base",
            "_view_module_version": "1.2.0",
            "_view_name": "LayoutView",
            "align_content": null,
            "align_items": null,
            "align_self": null,
            "border": null,
            "bottom": null,
            "display": null,
            "flex": null,
            "flex_flow": null,
            "grid_area": null,
            "grid_auto_columns": null,
            "grid_auto_flow": null,
            "grid_auto_rows": null,
            "grid_column": null,
            "grid_gap": null,
            "grid_row": null,
            "grid_template_areas": null,
            "grid_template_columns": null,
            "grid_template_rows": null,
            "height": null,
            "justify_content": null,
            "justify_items": null,
            "left": null,
            "margin": null,
            "max_height": null,
            "max_width": null,
            "min_height": null,
            "min_width": null,
            "object_fit": null,
            "object_position": null,
            "order": null,
            "overflow": null,
            "overflow_x": null,
            "overflow_y": null,
            "padding": null,
            "right": null,
            "top": null,
            "visibility": null,
            "width": null
          }
        },
        "ca1fbb148ec54f2fa818f48cd222fdfa": {
          "model_module": "@jupyter-widgets/controls",
          "model_name": "DescriptionStyleModel",
          "model_module_version": "1.5.0",
          "state": {
            "_model_module": "@jupyter-widgets/controls",
            "_model_module_version": "1.5.0",
            "_model_name": "DescriptionStyleModel",
            "_view_count": null,
            "_view_module": "@jupyter-widgets/base",
            "_view_module_version": "1.2.0",
            "_view_name": "StyleView",
            "description_width": ""
          }
        },
        "235688dd19ee4ecdb9a5380c753a705f": {
          "model_module": "@jupyter-widgets/base",
          "model_name": "LayoutModel",
          "model_module_version": "1.2.0",
          "state": {
            "_model_module": "@jupyter-widgets/base",
            "_model_module_version": "1.2.0",
            "_model_name": "LayoutModel",
            "_view_count": null,
            "_view_module": "@jupyter-widgets/base",
            "_view_module_version": "1.2.0",
            "_view_name": "LayoutView",
            "align_content": null,
            "align_items": null,
            "align_self": null,
            "border": null,
            "bottom": null,
            "display": null,
            "flex": null,
            "flex_flow": null,
            "grid_area": null,
            "grid_auto_columns": null,
            "grid_auto_flow": null,
            "grid_auto_rows": null,
            "grid_column": null,
            "grid_gap": null,
            "grid_row": null,
            "grid_template_areas": null,
            "grid_template_columns": null,
            "grid_template_rows": null,
            "height": null,
            "justify_content": null,
            "justify_items": null,
            "left": null,
            "margin": null,
            "max_height": null,
            "max_width": null,
            "min_height": null,
            "min_width": null,
            "object_fit": null,
            "object_position": null,
            "order": null,
            "overflow": null,
            "overflow_x": null,
            "overflow_y": null,
            "padding": null,
            "right": null,
            "top": null,
            "visibility": null,
            "width": null
          }
        },
        "a0baf730e54244008a9a3296822b990f": {
          "model_module": "@jupyter-widgets/controls",
          "model_name": "ProgressStyleModel",
          "model_module_version": "1.5.0",
          "state": {
            "_model_module": "@jupyter-widgets/controls",
            "_model_module_version": "1.5.0",
            "_model_name": "ProgressStyleModel",
            "_view_count": null,
            "_view_module": "@jupyter-widgets/base",
            "_view_module_version": "1.2.0",
            "_view_name": "StyleView",
            "bar_color": null,
            "description_width": ""
          }
        },
        "41e1b259c15f406faffd73151c1b70fc": {
          "model_module": "@jupyter-widgets/base",
          "model_name": "LayoutModel",
          "model_module_version": "1.2.0",
          "state": {
            "_model_module": "@jupyter-widgets/base",
            "_model_module_version": "1.2.0",
            "_model_name": "LayoutModel",
            "_view_count": null,
            "_view_module": "@jupyter-widgets/base",
            "_view_module_version": "1.2.0",
            "_view_name": "LayoutView",
            "align_content": null,
            "align_items": null,
            "align_self": null,
            "border": null,
            "bottom": null,
            "display": null,
            "flex": null,
            "flex_flow": null,
            "grid_area": null,
            "grid_auto_columns": null,
            "grid_auto_flow": null,
            "grid_auto_rows": null,
            "grid_column": null,
            "grid_gap": null,
            "grid_row": null,
            "grid_template_areas": null,
            "grid_template_columns": null,
            "grid_template_rows": null,
            "height": null,
            "justify_content": null,
            "justify_items": null,
            "left": null,
            "margin": null,
            "max_height": null,
            "max_width": null,
            "min_height": null,
            "min_width": null,
            "object_fit": null,
            "object_position": null,
            "order": null,
            "overflow": null,
            "overflow_x": null,
            "overflow_y": null,
            "padding": null,
            "right": null,
            "top": null,
            "visibility": null,
            "width": null
          }
        },
        "4a7f7c6398a84fae997f4b3961d2d44a": {
          "model_module": "@jupyter-widgets/controls",
          "model_name": "DescriptionStyleModel",
          "model_module_version": "1.5.0",
          "state": {
            "_model_module": "@jupyter-widgets/controls",
            "_model_module_version": "1.5.0",
            "_model_name": "DescriptionStyleModel",
            "_view_count": null,
            "_view_module": "@jupyter-widgets/base",
            "_view_module_version": "1.2.0",
            "_view_name": "StyleView",
            "description_width": ""
          }
        }
      }
    }
  },
  "cells": [
    {
      "cell_type": "markdown",
      "source": [
        "# Computer Vision Libraries in PyTorch\n",
        "* `torchvision`: Base domain library for PyTorch Computer Vision\n",
        "* `torchvision.datasets`: Get datasets and data loading functions for computer vision\n",
        "* `torchvision.models`: Get pretrained computer vision models\n",
        "* `torchvision.transform`: Functions for transforming images"
      ],
      "metadata": {
        "id": "ndUc0j0l6Nhn"
      }
    },
    {
      "cell_type": "code",
      "execution_count": null,
      "metadata": {
        "colab": {
          "base_uri": "https://localhost:8080/",
          "height": 36
        },
        "id": "2SiBTN_Q3JQS",
        "outputId": "9dd2d223-c577-4000-edec-cf5bcc05b35f"
      },
      "outputs": [
        {
          "output_type": "execute_result",
          "data": {
            "text/plain": [
              "'cuda'"
            ],
            "application/vnd.google.colaboratory.intrinsic+json": {
              "type": "string"
            }
          },
          "metadata": {},
          "execution_count": 1
        }
      ],
      "source": [
        "import torch\n",
        "from torch import nn\n",
        "from torchvision import datasets, transforms\n",
        "from torch.utils.data import DataLoader\n",
        "import matplotlib.pyplot as plt\n",
        "\n",
        "device = 'cuda' if torch.cuda.is_available() else 'cpu'\n",
        "device"
      ]
    },
    {
      "cell_type": "code",
      "source": [
        "# Needed to see our model in a tabular format\n",
        "try:\n",
        "    from torchinfo import summary\n",
        "except:\n",
        "    ! pip install torchinfo\n",
        "    from torchinfo import summary"
      ],
      "metadata": {
        "colab": {
          "base_uri": "https://localhost:8080/"
        },
        "id": "MejCiUXtAi8f",
        "outputId": "c0d428f7-02b1-4910-bb46-61552a65031d"
      },
      "execution_count": null,
      "outputs": [
        {
          "output_type": "stream",
          "name": "stdout",
          "text": [
            "Collecting torchinfo\n",
            "  Downloading torchinfo-1.8.0-py3-none-any.whl (23 kB)\n",
            "Installing collected packages: torchinfo\n",
            "Successfully installed torchinfo-1.8.0\n"
          ]
        }
      ]
    },
    {
      "cell_type": "code",
      "source": [
        "# Timing how long our model takes\n",
        "from timeit import default_timer as timer\n",
        "def print_train_time(start: float, end: float, device:torch.device = None):\n",
        "    total_time = end - start\n",
        "    print(f\"Total time on {device} is {total_time: .3f} seconds\")"
      ],
      "metadata": {
        "id": "9FxyKyr8Dks6"
      },
      "execution_count": null,
      "outputs": []
    },
    {
      "cell_type": "code",
      "source": [
        "train_data = datasets.MNIST(\n",
        "    root = 'data', # Where to download the data to\n",
        "    train= True,\n",
        "    download= True,\n",
        "    transform= transforms.ToTensor(),\n",
        "    target_transform= None\n",
        ")"
      ],
      "metadata": {
        "colab": {
          "base_uri": "https://localhost:8080/"
        },
        "id": "cYvFqTgR4efo",
        "outputId": "6086e1bd-8bdf-4106-c43b-76e672ac4570"
      },
      "execution_count": null,
      "outputs": [
        {
          "output_type": "stream",
          "name": "stdout",
          "text": [
            "Downloading http://yann.lecun.com/exdb/mnist/train-images-idx3-ubyte.gz\n",
            "Downloading http://yann.lecun.com/exdb/mnist/train-images-idx3-ubyte.gz to data/MNIST/raw/train-images-idx3-ubyte.gz\n"
          ]
        },
        {
          "output_type": "stream",
          "name": "stderr",
          "text": [
            "100%|██████████| 9912422/9912422 [00:00<00:00, 90177513.26it/s]\n"
          ]
        },
        {
          "output_type": "stream",
          "name": "stdout",
          "text": [
            "Extracting data/MNIST/raw/train-images-idx3-ubyte.gz to data/MNIST/raw\n",
            "\n",
            "Downloading http://yann.lecun.com/exdb/mnist/train-labels-idx1-ubyte.gz\n",
            "Downloading http://yann.lecun.com/exdb/mnist/train-labels-idx1-ubyte.gz to data/MNIST/raw/train-labels-idx1-ubyte.gz\n"
          ]
        },
        {
          "output_type": "stream",
          "name": "stderr",
          "text": [
            "100%|██████████| 28881/28881 [00:00<00:00, 119817699.13it/s]\n"
          ]
        },
        {
          "output_type": "stream",
          "name": "stdout",
          "text": [
            "Extracting data/MNIST/raw/train-labels-idx1-ubyte.gz to data/MNIST/raw\n",
            "\n",
            "Downloading http://yann.lecun.com/exdb/mnist/t10k-images-idx3-ubyte.gz\n",
            "Downloading http://yann.lecun.com/exdb/mnist/t10k-images-idx3-ubyte.gz to data/MNIST/raw/t10k-images-idx3-ubyte.gz\n"
          ]
        },
        {
          "output_type": "stream",
          "name": "stderr",
          "text": [
            "100%|██████████| 1648877/1648877 [00:00<00:00, 25243888.40it/s]\n"
          ]
        },
        {
          "output_type": "stream",
          "name": "stdout",
          "text": [
            "Extracting data/MNIST/raw/t10k-images-idx3-ubyte.gz to data/MNIST/raw\n",
            "\n",
            "Downloading http://yann.lecun.com/exdb/mnist/t10k-labels-idx1-ubyte.gz\n",
            "Downloading http://yann.lecun.com/exdb/mnist/t10k-labels-idx1-ubyte.gz to data/MNIST/raw/t10k-labels-idx1-ubyte.gz\n"
          ]
        },
        {
          "output_type": "stream",
          "name": "stderr",
          "text": [
            "100%|██████████| 4542/4542 [00:00<00:00, 15203933.57it/s]\n"
          ]
        },
        {
          "output_type": "stream",
          "name": "stdout",
          "text": [
            "Extracting data/MNIST/raw/t10k-labels-idx1-ubyte.gz to data/MNIST/raw\n",
            "\n"
          ]
        }
      ]
    },
    {
      "cell_type": "code",
      "source": [
        "test_data = datasets.MNIST(\n",
        "    root = 'data',\n",
        "    train = False,\n",
        "    download = True,\n",
        "    transform = transforms.ToTensor(),\n",
        "    target_transform = None\n",
        ")"
      ],
      "metadata": {
        "id": "6XtNPS_-42wp"
      },
      "execution_count": null,
      "outputs": []
    },
    {
      "cell_type": "code",
      "source": [
        "len(train_data), len(test_data)"
      ],
      "metadata": {
        "colab": {
          "base_uri": "https://localhost:8080/"
        },
        "id": "_4frUz2t57nD",
        "outputId": "5339d11f-74a9-4362-8990-de3094c63879"
      },
      "execution_count": null,
      "outputs": [
        {
          "output_type": "execute_result",
          "data": {
            "text/plain": [
              "(60000, 10000)"
            ]
          },
          "metadata": {},
          "execution_count": 6
        }
      ]
    },
    {
      "cell_type": "code",
      "source": [
        "class_names = train_data.classes\n",
        "class_names"
      ],
      "metadata": {
        "colab": {
          "base_uri": "https://localhost:8080/"
        },
        "id": "x9CbarUQ6Ul1",
        "outputId": "d7f8860d-1e4e-4111-c28f-a07ef75d15cc"
      },
      "execution_count": null,
      "outputs": [
        {
          "output_type": "execute_result",
          "data": {
            "text/plain": [
              "['0 - zero',\n",
              " '1 - one',\n",
              " '2 - two',\n",
              " '3 - three',\n",
              " '4 - four',\n",
              " '5 - five',\n",
              " '6 - six',\n",
              " '7 - seven',\n",
              " '8 - eight',\n",
              " '9 - nine']"
            ]
          },
          "metadata": {},
          "execution_count": 7
        }
      ]
    },
    {
      "cell_type": "code",
      "source": [
        "# Getting the accuracy function from torchmetrics\n",
        "try:\n",
        "    from torchmetrics import accuracy_fn\n",
        "except:\n",
        "    !pip install torchmetrics\n",
        "    from torchmetrics import Accuracy\n",
        "accuracy_fn = Accuracy(task= 'multiclass', num_classes= len(class_names)).to(device)"
      ],
      "metadata": {
        "colab": {
          "base_uri": "https://localhost:8080/"
        },
        "id": "HQIcbkVy6fxc",
        "outputId": "482d10e1-d900-41ec-f3bf-bdb3e3211177"
      },
      "execution_count": null,
      "outputs": [
        {
          "output_type": "stream",
          "name": "stdout",
          "text": [
            "Collecting torchmetrics\n",
            "  Downloading torchmetrics-1.2.0-py3-none-any.whl (805 kB)\n",
            "\u001b[?25l     \u001b[90m━━━━━━━━━━━━━━━━━━━━━━━━━━━━━━━━━━━━━━━━\u001b[0m \u001b[32m0.0/805.2 kB\u001b[0m \u001b[31m?\u001b[0m eta \u001b[36m-:--:--\u001b[0m\r\u001b[2K     \u001b[91m━━━━━━\u001b[0m\u001b[91m╸\u001b[0m\u001b[90m━━━━━━━━━━━━━━━━━━━━━━━━━━━━━━━━\u001b[0m \u001b[32m143.4/805.2 kB\u001b[0m \u001b[31m4.3 MB/s\u001b[0m eta \u001b[36m0:00:01\u001b[0m\r\u001b[2K     \u001b[90m━━━━━━━━━━━━━━━━━━━━━━━━━━━━━━━━━━━━━━\u001b[0m \u001b[32m805.2/805.2 kB\u001b[0m \u001b[31m12.3 MB/s\u001b[0m eta \u001b[36m0:00:00\u001b[0m\n",
            "\u001b[?25hRequirement already satisfied: numpy>1.20.0 in /usr/local/lib/python3.10/dist-packages (from torchmetrics) (1.23.5)\n",
            "Requirement already satisfied: torch>=1.8.1 in /usr/local/lib/python3.10/dist-packages (from torchmetrics) (2.0.1+cu118)\n",
            "Collecting lightning-utilities>=0.8.0 (from torchmetrics)\n",
            "  Downloading lightning_utilities-0.9.0-py3-none-any.whl (23 kB)\n",
            "Requirement already satisfied: packaging>=17.1 in /usr/local/lib/python3.10/dist-packages (from lightning-utilities>=0.8.0->torchmetrics) (23.2)\n",
            "Requirement already satisfied: typing-extensions in /usr/local/lib/python3.10/dist-packages (from lightning-utilities>=0.8.0->torchmetrics) (4.5.0)\n",
            "Requirement already satisfied: filelock in /usr/local/lib/python3.10/dist-packages (from torch>=1.8.1->torchmetrics) (3.12.4)\n",
            "Requirement already satisfied: sympy in /usr/local/lib/python3.10/dist-packages (from torch>=1.8.1->torchmetrics) (1.12)\n",
            "Requirement already satisfied: networkx in /usr/local/lib/python3.10/dist-packages (from torch>=1.8.1->torchmetrics) (3.1)\n",
            "Requirement already satisfied: jinja2 in /usr/local/lib/python3.10/dist-packages (from torch>=1.8.1->torchmetrics) (3.1.2)\n",
            "Requirement already satisfied: triton==2.0.0 in /usr/local/lib/python3.10/dist-packages (from torch>=1.8.1->torchmetrics) (2.0.0)\n",
            "Requirement already satisfied: cmake in /usr/local/lib/python3.10/dist-packages (from triton==2.0.0->torch>=1.8.1->torchmetrics) (3.27.6)\n",
            "Requirement already satisfied: lit in /usr/local/lib/python3.10/dist-packages (from triton==2.0.0->torch>=1.8.1->torchmetrics) (17.0.2)\n",
            "Requirement already satisfied: MarkupSafe>=2.0 in /usr/local/lib/python3.10/dist-packages (from jinja2->torch>=1.8.1->torchmetrics) (2.1.3)\n",
            "Requirement already satisfied: mpmath>=0.19 in /usr/local/lib/python3.10/dist-packages (from sympy->torch>=1.8.1->torchmetrics) (1.3.0)\n",
            "Installing collected packages: lightning-utilities, torchmetrics\n",
            "Successfully installed lightning-utilities-0.9.0 torchmetrics-1.2.0\n"
          ]
        }
      ]
    },
    {
      "cell_type": "markdown",
      "source": [
        "## Visualizing the dataset"
      ],
      "metadata": {
        "id": "kmtjRiFb6mlC"
      }
    },
    {
      "cell_type": "code",
      "source": [
        "image, label = train_data[1]\n",
        "plt.imshow(image.squeeze(), cmap= 'gray')\n",
        "plt.title(label)\n",
        "plt.axis(False);"
      ],
      "metadata": {
        "colab": {
          "base_uri": "https://localhost:8080/",
          "height": 428
        },
        "id": "VzP-ihT66ZJc",
        "outputId": "b24ddc9b-4b11-4a6e-9b22-0c9f78cf23ec"
      },
      "execution_count": null,
      "outputs": [
        {
          "output_type": "display_data",
          "data": {
            "text/plain": [
              "<Figure size 640x480 with 1 Axes>"
            ],
            "image/png": "[encoded data removed]"
          },
          "metadata": {}
        }
      ]
    },
    {
      "cell_type": "code",
      "source": [
        "## Plotting random images from our dataset\n",
        "torch.manual_seed(8)\n",
        "fig = plt.figure(figsize= (10, 7))\n",
        "rows = 3\n",
        "cols = 3\n",
        "for i in range(1, rows * cols + 1):\n",
        "    rand_idx = torch.randint(0, len(train_data), size= [1]).item()\n",
        "    img, label = train_data[rand_idx]\n",
        "    fig.add_subplot(rows, cols, i)\n",
        "    plt.imshow(img.squeeze(), cmap= 'gray')\n",
        "    plt.title(class_names[label])\n",
        "    plt.axis(False);\n"
      ],
      "metadata": {
        "colab": {
          "base_uri": "https://localhost:8080/",
          "height": 598
        },
        "id": "ySZ-0HsQ6mU9",
        "outputId": "59f693e0-7833-4eee-9cc4-ed53b6144169"
      },
      "execution_count": null,
      "outputs": [
        {
          "output_type": "display_data",
          "data": {
            "text/plain": [
              "<Figure size 1000x700 with 9 Axes>"
            ],
            "image/png": "[encoded data removed]"
          },
          "metadata": {}
        }
      ]
    },
    {
      "cell_type": "markdown",
      "source": [
        "## Preparing the DataLoader"
      ],
      "metadata": {
        "id": "gLQmr3KG67GC"
      }
    },
    {
      "cell_type": "code",
      "source": [
        "train_data"
      ],
      "metadata": {
        "colab": {
          "base_uri": "https://localhost:8080/"
        },
        "id": "UdTBMq237I3d",
        "outputId": "61554cd8-8e9a-4470-8ace-ca06dcb85a8d"
      },
      "execution_count": null,
      "outputs": [
        {
          "output_type": "execute_result",
          "data": {
            "text/plain": [
              "Dataset MNIST\n",
              "    Number of datapoints: 60000\n",
              "    Root location: data\n",
              "    Split: Train\n",
              "    StandardTransform\n",
              "Transform: ToTensor()"
            ]
          },
          "metadata": {},
          "execution_count": 11
        }
      ]
    },
    {
      "cell_type": "code",
      "source": [
        "test_data"
      ],
      "metadata": {
        "colab": {
          "base_uri": "https://localhost:8080/"
        },
        "id": "iDCa9DtYIPjG",
        "outputId": "ac689e16-9034-4fda-d77c-69af94cd125b"
      },
      "execution_count": null,
      "outputs": [
        {
          "output_type": "execute_result",
          "data": {
            "text/plain": [
              "Dataset MNIST\n",
              "    Number of datapoints: 10000\n",
              "    Root location: data\n",
              "    Split: Test\n",
              "    StandardTransform\n",
              "Transform: ToTensor()"
            ]
          },
          "metadata": {},
          "execution_count": 12
        }
      ]
    },
    {
      "cell_type": "code",
      "source": [
        "10000 / 32"
      ],
      "metadata": {
        "colab": {
          "base_uri": "https://localhost:8080/"
        },
        "id": "Iyyal_EOIRs1",
        "outputId": "053c3eb8-bdec-4f31-f80b-02611ae3302b"
      },
      "execution_count": null,
      "outputs": [
        {
          "output_type": "execute_result",
          "data": {
            "text/plain": [
              "312.5"
            ]
          },
          "metadata": {},
          "execution_count": 13
        }
      ]
    },
    {
      "cell_type": "code",
      "source": [
        "BATCH_SIZE = 32\n",
        "\n",
        "train_data_loader = DataLoader(train_data, BATCH_SIZE, shuffle= True)\n",
        "test_data_loader = DataLoader(test_data, BATCH_SIZE, shuffle= False)\n",
        "\n",
        "print(f\"We have {len(train_data_loader)} training batches\")\n",
        "print(f\"We have {len(test_data_loader)} test batches\")"
      ],
      "metadata": {
        "colab": {
          "base_uri": "https://localhost:8080/"
        },
        "id": "bw7nuxg87TT-",
        "outputId": "39c64887-2ae3-4dc6-9d92-71acc636040b"
      },
      "execution_count": null,
      "outputs": [
        {
          "output_type": "stream",
          "name": "stdout",
          "text": [
            "We have 1875 training batches\n",
            "We have 313 test batches\n"
          ]
        }
      ]
    },
    {
      "cell_type": "code",
      "source": [
        "train_images_batch, train_labels_batch = next(iter(train_data_loader))\n",
        "print(f\"Sample image size: {train_images_batch.shape}\")"
      ],
      "metadata": {
        "colab": {
          "base_uri": "https://localhost:8080/"
        },
        "id": "yPlDd7FK8QNo",
        "outputId": "cd2a8862-3572-470d-dba8-4dfb551d37d9"
      },
      "execution_count": null,
      "outputs": [
        {
          "output_type": "stream",
          "name": "stdout",
          "text": [
            "Sample image size: torch.Size([32, 1, 28, 28])\n"
          ]
        }
      ]
    },
    {
      "cell_type": "code",
      "source": [
        "torch.manual_seed(17)\n",
        "rand_idx = torch.randint(0, len(train_images_batch), size= [1]).item()\n",
        "img, label = train_images_batch[rand_idx], train_labels_batch[rand_idx]\n",
        "plt.imshow(img.squeeze(), cmap= 'gray')\n",
        "plt.title(class_names[label])\n",
        "plt.axis(False);"
      ],
      "metadata": {
        "colab": {
          "base_uri": "https://localhost:8080/",
          "height": 428
        },
        "id": "BffHjlrT8ahz",
        "outputId": "0a5aee0c-0538-4afd-a272-34248b773f0d"
      },
      "execution_count": null,
      "outputs": [
        {
          "output_type": "display_data",
          "data": {
            "text/plain": [
              "<Figure size 640x480 with 1 Axes>"
            ],
            "image/png": "[encoded data removed]"
          },
          "metadata": {}
        }
      ]
    },
    {
      "cell_type": "markdown",
      "source": [
        "## Defining the train step\n",
        "* Includes a function that we can call everytime we wish to train the model\n",
        "* Takes in the model, loss function, optimizers, dataloaders and accuracy function"
      ],
      "metadata": {
        "id": "t5uZ3In18fG7"
      }
    },
    {
      "cell_type": "code",
      "source": [
        "def train_step(model, loss_fn, optimizer, train_data_loader, device= device, accuracy_fn= accuracy_fn):\n",
        "    train_loss, train_acc = 0, 0\n",
        "    model.train()\n",
        "    for batch, (X, y) in enumerate(train_data_loader):\n",
        "        X = X.to(device)\n",
        "        y = y.to(device)\n",
        "\n",
        "        y_pred = model(X) # Logits\n",
        "        loss = loss_fn(y_pred, y)\n",
        "        train_loss += loss\n",
        "        train_acc += accuracy_fn(y, y_pred.argmax(dim= 1))\n",
        "\n",
        "        optimizer.zero_grad()\n",
        "        loss.backward()\n",
        "        optimizer.step()\n",
        "\n",
        "    avg_train_loss = train_loss / len(train_data_loader)\n",
        "    avg_train_acc = train_acc / len(train_data_loader)\n",
        "    print(f\"Train loss: {avg_train_loss: .4f}\")\n",
        "    print(f\"Train acc: {avg_train_acc: .4f}\")"
      ],
      "metadata": {
        "id": "T9Gnd_8m8_eG"
      },
      "execution_count": null,
      "outputs": []
    },
    {
      "cell_type": "markdown",
      "source": [
        "## Defining test step\n",
        "* Includes the testing function\n",
        "* Takes in the model, loss function and dataloaders\n",
        "* Outputs the model's loss and accuracy"
      ],
      "metadata": {
        "id": "ueLUMK5H-qzs"
      }
    },
    {
      "cell_type": "code",
      "source": [
        "train_images_batch, train_labels_batch = next(iter(test_data_loader))\n",
        "print(f\"Sample image size: {train_images_batch.shape}\")"
      ],
      "metadata": {
        "colab": {
          "base_uri": "https://localhost:8080/"
        },
        "id": "l_tHlg_1HYj2",
        "outputId": "e9a94f3b-8a18-4373-8d9d-f25baadbfca5"
      },
      "execution_count": null,
      "outputs": [
        {
          "output_type": "stream",
          "name": "stdout",
          "text": [
            "Sample image size: torch.Size([32, 1, 28, 28])\n"
          ]
        }
      ]
    },
    {
      "cell_type": "code",
      "source": [
        "def test_step(model, loss_fn, data_loader, device= device, accuracy_fn= accuracy_fn):\n",
        "    '''Performs a testing loop on the model'''\n",
        "    test_loss, test_acc = 0, 0\n",
        "    model.eval()\n",
        "    with torch.inference_mode():\n",
        "        for X_test, y_test in data_loader:\n",
        "            X_test = X_test.to(device)\n",
        "            y_test = y_test.to(device)\n",
        "\n",
        "            # Forward Pass\n",
        "            y_test_logits = model(X_test)\n",
        "            # print(f\"Test logits shape: {y_test_logits.shape}\")\n",
        "            # print(f\"Test shape: {y_test.shape}\")\n",
        "\n",
        "            # Calculate the loss\n",
        "            test_loss += loss_fn(y_test_logits, y_test)\n",
        "            test_acc += accuracy_fn(y_test, y_test_logits.argmax(dim= 1))\n",
        "\n",
        "        test_loss /= len(data_loader)\n",
        "        test_acc /= len(data_loader)\n",
        "        print(f\"Test loss: {test_loss: .4f}\")\n",
        "        print(f\"Test accuracy: {test_acc: .4f}\\n\")"
      ],
      "metadata": {
        "id": "qr34TyW0-usG"
      },
      "execution_count": null,
      "outputs": []
    },
    {
      "cell_type": "markdown",
      "source": [
        "## Creating the model (using the functionized way)\n",
        "* Making a CNN block\n",
        "    * Convolutional layer\n",
        "    * MaxPooling\n",
        "    * ReLU\n",
        "* Using the above block twice in the main model class"
      ],
      "metadata": {
        "id": "9W0Y-3lZ-0E9"
      }
    },
    {
      "cell_type": "code",
      "source": [
        "def CNN_block(input_shape, output_shape, kernel_size, stride, padding):\n",
        "    return nn.Sequential(\n",
        "        nn.Conv2d(in_channels= input_shape, out_channels= output_shape, kernel_size= kernel_size, stride= stride, padding= padding),\n",
        "        nn.MaxPool2d(kernel_size= 2),\n",
        "        nn.ReLU(inplace= True)\n",
        "    )"
      ],
      "metadata": {
        "id": "Mhhg5HaG_lJm"
      },
      "execution_count": null,
      "outputs": []
    },
    {
      "cell_type": "code",
      "source": [
        "class CNN_model(nn.Module):\n",
        "    def __init__(self, input_shape, hidden_units, output_shape):\n",
        "        super().__init__()\n",
        "\n",
        "        self.main = nn.Sequential(\n",
        "            CNN_block(input_shape, hidden_units, 5, 2, 1),\n",
        "            CNN_block(hidden_units, hidden_units // 4, 3, 1, 1),\n",
        "        )\n",
        "\n",
        "        self.classifier_layer = nn.Sequential(\n",
        "            nn.Flatten(),\n",
        "            nn.Linear(in_features= hidden_units // 4 * 9, out_features= output_shape)\n",
        "        )\n",
        "\n",
        "    def forward(self, x):\n",
        "        return self.classifier_layer(self.main(x))"
      ],
      "metadata": {
        "id": "2pYdff24-4JF"
      },
      "execution_count": null,
      "outputs": []
    },
    {
      "cell_type": "code",
      "source": [
        "model_0 = CNN_model(1, 128, len(class_names))\n",
        "summary(model_0, (BATCH_SIZE, 1, 28, 28), col_names= [\"input_size\", \"output_size\", \"num_params\", \"kernel_size\", \"trainable\"], col_width= 20)"
      ],
      "metadata": {
        "colab": {
          "base_uri": "https://localhost:8080/"
        },
        "id": "GLtY13acAhWF",
        "outputId": "e9e7b4df-9b39-4332-b2ba-6e24ae5c6812"
      },
      "execution_count": null,
      "outputs": [
        {
          "output_type": "execute_result",
          "data": {
            "text/plain": [
              "============================================================================================================================================\n",
              "Layer (type:depth-idx)                   Input Shape          Output Shape         Param #              Kernel Shape         Trainable\n",
              "============================================================================================================================================\n",
              "CNN_model                                [32, 1, 28, 28]      [32, 10]             --                   --                   True\n",
              "├─Sequential: 1-1                        [32, 1, 28, 28]      [32, 32, 3, 3]       --                   --                   True\n",
              "│    └─Sequential: 2-1                   [32, 1, 28, 28]      [32, 128, 6, 6]      --                   --                   True\n",
              "│    │    └─Conv2d: 3-1                  [32, 1, 28, 28]      [32, 128, 13, 13]    3,328                [5, 5]               True\n",
              "│    │    └─MaxPool2d: 3-2               [32, 128, 13, 13]    [32, 128, 6, 6]      --                   2                    --\n",
              "│    │    └─ReLU: 3-3                    [32, 128, 6, 6]      [32, 128, 6, 6]      --                   --                   --\n",
              "│    └─Sequential: 2-2                   [32, 128, 6, 6]      [32, 32, 3, 3]       --                   --                   True\n",
              "│    │    └─Conv2d: 3-4                  [32, 128, 6, 6]      [32, 32, 6, 6]       36,896               [3, 3]               True\n",
              "│    │    └─MaxPool2d: 3-5               [32, 32, 6, 6]       [32, 32, 3, 3]       --                   2                    --\n",
              "│    │    └─ReLU: 3-6                    [32, 32, 3, 3]       [32, 32, 3, 3]       --                   --                   --\n",
              "├─Sequential: 1-2                        [32, 32, 3, 3]       [32, 10]             --                   --                   True\n",
              "│    └─Flatten: 2-3                      [32, 32, 3, 3]       [32, 288]            --                   --                   --\n",
              "│    └─Linear: 2-4                       [32, 288]            [32, 10]             2,890                --                   True\n",
              "============================================================================================================================================\n",
              "Total params: 43,114\n",
              "Trainable params: 43,114\n",
              "Non-trainable params: 0\n",
              "Total mult-adds (M): 60.59\n",
              "============================================================================================================================================\n",
              "Input size (MB): 0.10\n",
              "Forward/backward pass size (MB): 5.84\n",
              "Params size (MB): 0.17\n",
              "Estimated Total Size (MB): 6.11\n",
              "============================================================================================================================================"
            ]
          },
          "metadata": {},
          "execution_count": 32
        }
      ]
    },
    {
      "cell_type": "code",
      "source": [
        "loss_fn = nn.CrossEntropyLoss()\n",
        "\n",
        "optimizer = torch.optim.Adam(params= model_0.parameters(), lr= 0.0002)"
      ],
      "metadata": {
        "id": "NKdR80vaB2Jx"
      },
      "execution_count": null,
      "outputs": []
    },
    {
      "cell_type": "code",
      "source": [
        "from tqdm.auto import tqdm\n",
        "torch.manual_seed(17)\n",
        "epochs = 7\n",
        "model_start_time = timer()\n",
        "for epoch in tqdm(range(epochs)):\n",
        "    print(f\"For epoch: {epoch + 1}\\n\")\n",
        "    train_step(model_0, loss_fn, optimizer, train_data_loader)\n",
        "    test_step(model_0, loss_fn, test_data_loader)\n",
        "model_end_time = timer()\n",
        "print_train_time(model_start_time, model_end_time, device)"
      ],
      "metadata": {
        "colab": {
          "base_uri": "https://localhost:8080/",
          "height": 917,
          "referenced_widgets": [
            "fb6be1a3b4ba4b9bac5097b1d5d91ca6",
            "68d1d4500d014189bc173e01705ff907",
            "b4ff40134ca0499aa91635fd463b55b9",
            "3564976b626949e8b43b3257ffd6aaf5",
            "7cc2bdb23b4940a9a1c56d2a556e59c4",
            "0171e31cc3d542f58702840148ee3c04",
            "24ad9ca88c5a4dfeaee8447b63d5aa5e",
            "53d3fa770c514ea28f110eb362f184c5",
            "6db80ababd33451c96cc5b3474a9184f",
            "af32e6686b7c4261aa0d38dd2ba1c136",
            "5ae4c66ffd394e008477a7758eaca01d"
          ]
        },
        "id": "B_TMWH_EDbsA",
        "outputId": "ddf16218-f0b1-46e1-9c32-9b0638e5db18"
      },
      "execution_count": null,
      "outputs": [
        {
          "output_type": "display_data",
          "data": {
            "text/plain": [
              "  0%|          | 0/7 [00:00<?, ?it/s]"
            ],
            "application/vnd.jupyter.widget-view+json": {
              "version_major": 2,
              "version_minor": 0,
              "model_id": "fb6be1a3b4ba4b9bac5097b1d5d91ca6"
            }
          },
          "metadata": {}
        },
        {
          "output_type": "stream",
          "name": "stdout",
          "text": [
            "For epoch: 1\n",
            "\n",
            "Train loss:  0.3767\n",
            "Train acc:  0.9014\n",
            "Test loss:  0.1100\n",
            "Test accuracy:  0.9679\n",
            "\n",
            "For epoch: 2\n",
            "\n",
            "Train loss:  0.1027\n",
            "Train acc:  0.9699\n",
            "Test loss:  0.0760\n",
            "Test accuracy:  0.9744\n",
            "\n",
            "For epoch: 3\n",
            "\n",
            "Train loss:  0.0748\n",
            "Train acc:  0.9779\n",
            "Test loss:  0.0564\n",
            "Test accuracy:  0.9826\n",
            "\n",
            "For epoch: 4\n",
            "\n",
            "Train loss:  0.0605\n",
            "Train acc:  0.9819\n",
            "Test loss:  0.0484\n",
            "Test accuracy:  0.9864\n",
            "\n",
            "For epoch: 5\n",
            "\n",
            "Train loss:  0.0515\n",
            "Train acc:  0.9849\n",
            "Test loss:  0.0460\n",
            "Test accuracy:  0.9842\n",
            "\n",
            "For epoch: 6\n",
            "\n",
            "Train loss:  0.0460\n",
            "Train acc:  0.9855\n",
            "Test loss:  0.0445\n",
            "Test accuracy:  0.9866\n",
            "\n",
            "For epoch: 7\n",
            "\n",
            "Train loss:  0.0406\n",
            "Train acc:  0.9872\n",
            "Test loss:  0.0373\n",
            "Test accuracy:  0.9877\n",
            "\n",
            "Total time on cuda is  92.600 seconds\n"
          ]
        }
      ]
    },
    {
      "cell_type": "markdown",
      "source": [
        "## Re-Creating Lenet-5 architecture"
      ],
      "metadata": {
        "id": "6WIw8IPo9TvW"
      }
    },
    {
      "cell_type": "code",
      "source": [
        "def LeNet_block(input_shape, output_shape, kernel_size, stride, padding= 0):\n",
        "    return nn.Sequential(\n",
        "        nn.Conv2d(in_channels= input_shape, out_channels= output_shape,\n",
        "                  kernel_size= kernel_size, stride= stride, padding= padding),\n",
        "        nn.AvgPool2d(kernel_size= 2),\n",
        "        nn.Tanh()\n",
        "    )"
      ],
      "metadata": {
        "id": "ySMJZjj0zOms"
      },
      "execution_count": null,
      "outputs": []
    },
    {
      "cell_type": "code",
      "source": [
        "class LeNet(nn.Module):\n",
        "    def __init__(self, input_shape, output_shape):\n",
        "        super().__init__()\n",
        "\n",
        "        self.main = nn.Sequential(\n",
        "            LeNet_block(input_shape, output_shape= 8, kernel_size= 3, stride= 1), # img_size: 26x26x8 -> 13x13x8\n",
        "            LeNet_block(8, output_shape= 16 ,kernel_size= 3, stride= 1), # img_size: 11x11x16 -> 5x5x16\n",
        "            nn.Conv2d(in_channels= 16, out_channels= 120, kernel_size= 5, stride= 1) # img_size: 1x1x120\n",
        "        )\n",
        "\n",
        "        self.classifier_layer = nn.Sequential(\n",
        "            nn.Flatten(),\n",
        "            nn.Linear(in_features= 120, out_features= 84),\n",
        "            nn.Tanh(),\n",
        "            nn.Linear(in_features= 84, out_features= output_shape),\n",
        "        )\n",
        "\n",
        "    def forward(self, x):\n",
        "        return self.classifier_layer(self.main(x))"
      ],
      "metadata": {
        "id": "BRRYQJ2J6DKK"
      },
      "execution_count": null,
      "outputs": []
    },
    {
      "cell_type": "code",
      "source": [
        "model_1 = LeNet(1, len(class_names)).to(device)\n",
        "summary(model_1, (BATCH_SIZE, 1, 28, 28), col_names= [\"input_size\", \"output_size\", \"num_params\", \"kernel_size\", \"trainable\"], col_width= 20)"
      ],
      "metadata": {
        "colab": {
          "base_uri": "https://localhost:8080/"
        },
        "id": "mwFcq7X--It1",
        "outputId": "da365aad-2237-4e10-ec14-f3d2f0d5ffb7"
      },
      "execution_count": null,
      "outputs": [
        {
          "output_type": "execute_result",
          "data": {
            "text/plain": [
              "============================================================================================================================================\n",
              "Layer (type:depth-idx)                   Input Shape          Output Shape         Param #              Kernel Shape         Trainable\n",
              "============================================================================================================================================\n",
              "LeNet                                    [32, 1, 28, 28]      [32, 10]             --                   --                   True\n",
              "├─Sequential: 1-1                        [32, 1, 28, 28]      [32, 120, 1, 1]      --                   --                   True\n",
              "│    └─Sequential: 2-1                   [32, 1, 28, 28]      [32, 8, 13, 13]      --                   --                   True\n",
              "│    │    └─Conv2d: 3-1                  [32, 1, 28, 28]      [32, 8, 26, 26]      80                   [3, 3]               True\n",
              "│    │    └─AvgPool2d: 3-2               [32, 8, 26, 26]      [32, 8, 13, 13]      --                   2                    --\n",
              "│    │    └─Tanh: 3-3                    [32, 8, 13, 13]      [32, 8, 13, 13]      --                   --                   --\n",
              "│    └─Sequential: 2-2                   [32, 8, 13, 13]      [32, 16, 5, 5]       --                   --                   True\n",
              "│    │    └─Conv2d: 3-4                  [32, 8, 13, 13]      [32, 16, 11, 11]     1,168                [3, 3]               True\n",
              "│    │    └─AvgPool2d: 3-5               [32, 16, 11, 11]     [32, 16, 5, 5]       --                   2                    --\n",
              "│    │    └─Tanh: 3-6                    [32, 16, 5, 5]       [32, 16, 5, 5]       --                   --                   --\n",
              "│    └─Conv2d: 2-3                       [32, 16, 5, 5]       [32, 120, 1, 1]      48,120               [5, 5]               True\n",
              "├─Sequential: 1-2                        [32, 120, 1, 1]      [32, 10]             --                   --                   True\n",
              "│    └─Flatten: 2-4                      [32, 120, 1, 1]      [32, 120]            --                   --                   --\n",
              "│    └─Linear: 2-5                       [32, 120]            [32, 84]             10,164               --                   True\n",
              "│    └─Tanh: 2-6                         [32, 84]             [32, 84]             --                   --                   --\n",
              "│    └─Linear: 2-7                       [32, 84]             [32, 10]             850                  --                   True\n",
              "============================================================================================================================================\n",
              "Total params: 60,382\n",
              "Trainable params: 60,382\n",
              "Non-trainable params: 0\n",
              "Total mult-adds (M): 8.15\n",
              "============================================================================================================================================\n",
              "Input size (MB): 0.10\n",
              "Forward/backward pass size (MB): 1.93\n",
              "Params size (MB): 0.24\n",
              "Estimated Total Size (MB): 2.28\n",
              "============================================================================================================================================"
            ]
          },
          "metadata": {},
          "execution_count": 85
        }
      ]
    },
    {
      "cell_type": "code",
      "source": [
        "loss_fn = nn.CrossEntropyLoss()\n",
        "\n",
        "optimizer = torch.optim.Adam(params= model_1.parameters(), lr= 0.0004)"
      ],
      "metadata": {
        "id": "GQjDOEoS4kAC"
      },
      "execution_count": null,
      "outputs": []
    },
    {
      "cell_type": "code",
      "source": [
        "from tqdm.auto import tqdm\n",
        "torch.manual_seed(17)\n",
        "epochs = 7\n",
        "model_start_time = timer()\n",
        "for epoch in tqdm(range(epochs)):\n",
        "    print(f\"For epoch: {epoch + 1}\\n\")\n",
        "    train_step(model_1, loss_fn, optimizer, train_data_loader)\n",
        "    test_step(model_1, loss_fn, test_data_loader)\n",
        "model_end_time = timer()\n",
        "print_train_time(model_start_time, model_end_time, device)"
      ],
      "metadata": {
        "colab": {
          "base_uri": "https://localhost:8080/",
          "height": 917,
          "referenced_widgets": [
            "5ef865e1863e4ef6b02ef504e410ca4b",
            "14fadc5148d64e7e81a715e00b4eb731",
            "5977404161f844d899097b7942749f50",
            "b3044cea25b64215bf9ab301762b97f4",
            "5fe4a721e73a4a60bacc01706a9c0b42",
            "05fd1e6173824cb8b89115ebb450aa6f",
            "99960d1a2aef4d8cbe1eefdce7a32d41",
            "8764e551dd6c4d91b94f3a0b84b3cba9",
            "c66554355c7849faabd4e9993b645f6a",
            "bc659e1101164ac8aa3befa5ae419eef",
            "2ee66362480f46938ab289d9c34c52cb"
          ]
        },
        "id": "EXT6mgKT56cK",
        "outputId": "8fd47b52-79a0-4e78-f452-34ecb5e9397f"
      },
      "execution_count": null,
      "outputs": [
        {
          "output_type": "display_data",
          "data": {
            "text/plain": [
              "  0%|          | 0/7 [00:00<?, ?it/s]"
            ],
            "application/vnd.jupyter.widget-view+json": {
              "version_major": 2,
              "version_minor": 0,
              "model_id": "5ef865e1863e4ef6b02ef504e410ca4b"
            }
          },
          "metadata": {}
        },
        {
          "output_type": "stream",
          "name": "stdout",
          "text": [
            "For epoch: 1\n",
            "\n",
            "Train loss:  0.4151\n",
            "Train acc:  0.8794\n",
            "Test loss:  0.2280\n",
            "Test accuracy:  0.9328\n",
            "\n",
            "For epoch: 2\n",
            "\n",
            "Train loss:  0.2012\n",
            "Train acc:  0.9399\n",
            "Test loss:  0.1716\n",
            "Test accuracy:  0.9481\n",
            "\n",
            "For epoch: 3\n",
            "\n",
            "Train loss:  0.1507\n",
            "Train acc:  0.9552\n",
            "Test loss:  0.1277\n",
            "Test accuracy:  0.9612\n",
            "\n",
            "For epoch: 4\n",
            "\n",
            "Train loss:  0.1193\n",
            "Train acc:  0.9645\n",
            "Test loss:  0.1021\n",
            "Test accuracy:  0.9705\n",
            "\n",
            "For epoch: 5\n",
            "\n",
            "Train loss:  0.1001\n",
            "Train acc:  0.9697\n",
            "Test loss:  0.0887\n",
            "Test accuracy:  0.9734\n",
            "\n",
            "For epoch: 6\n",
            "\n",
            "Train loss:  0.0870\n",
            "Train acc:  0.9740\n",
            "Test loss:  0.0828\n",
            "Test accuracy:  0.9748\n",
            "\n",
            "For epoch: 7\n",
            "\n",
            "Train loss:  0.0766\n",
            "Train acc:  0.9765\n",
            "Test loss:  0.0844\n",
            "Test accuracy:  0.9729\n",
            "\n",
            "Total time on cuda is  105.716 seconds\n"
          ]
        }
      ]
    },
    {
      "cell_type": "markdown",
      "source": [
        "## Tweaking LeNet architecture"
      ],
      "metadata": {
        "id": "kimKYqLg9_Cn"
      }
    },
    {
      "cell_type": "code",
      "source": [
        "class LeNet(nn.Module):\n",
        "    def __init__(self, input_shape, output_shape):\n",
        "        super().__init__()\n",
        "\n",
        "        self.main = nn.Sequential(\n",
        "            LeNet_block(input_shape, output_shape= 16, kernel_size= 3, stride= 1, padding= 1),\n",
        "            LeNet_block(16, output_shape= 32 ,kernel_size= 3, stride= 1, padding= 1),\n",
        "            nn.Conv2d(in_channels= 32, out_channels= 16, kernel_size= 3, stride= 1, padding= 1)\n",
        "        )\n",
        "\n",
        "        self.classifier_layer = nn.Sequential(\n",
        "            nn.Flatten(),\n",
        "            nn.Linear(in_features= 784, out_features= output_shape)\n",
        "        )\n",
        "\n",
        "    def forward(self, x):\n",
        "        return self.classifier_layer(self.main(x))"
      ],
      "metadata": {
        "id": "iOIo4BXGFquU"
      },
      "execution_count": null,
      "outputs": []
    },
    {
      "cell_type": "code",
      "source": [
        "model_2 = LeNet(1, len(class_names)).to(device)\n",
        "summary(model_2, (BATCH_SIZE, 1, 28, 28), col_names= [\"input_size\", \"output_size\", \"num_params\", \"kernel_size\", \"trainable\"], col_width= 20)"
      ],
      "metadata": {
        "colab": {
          "base_uri": "https://localhost:8080/"
        },
        "id": "7Ur0Urse4QMc",
        "outputId": "838ad80f-cd9e-4753-e5ad-41d8b5953a70"
      },
      "execution_count": null,
      "outputs": [
        {
          "output_type": "execute_result",
          "data": {
            "text/plain": [
              "============================================================================================================================================\n",
              "Layer (type:depth-idx)                   Input Shape          Output Shape         Param #              Kernel Shape         Trainable\n",
              "============================================================================================================================================\n",
              "LeNet                                    [32, 1, 28, 28]      [32, 10]             --                   --                   True\n",
              "├─Sequential: 1-1                        [32, 1, 28, 28]      [32, 16, 7, 7]       --                   --                   True\n",
              "│    └─Sequential: 2-1                   [32, 1, 28, 28]      [32, 16, 14, 14]     --                   --                   True\n",
              "│    │    └─Conv2d: 3-1                  [32, 1, 28, 28]      [32, 16, 28, 28]     160                  [3, 3]               True\n",
              "│    │    └─AvgPool2d: 3-2               [32, 16, 28, 28]     [32, 16, 14, 14]     --                   2                    --\n",
              "│    │    └─Tanh: 3-3                    [32, 16, 14, 14]     [32, 16, 14, 14]     --                   --                   --\n",
              "│    └─Sequential: 2-2                   [32, 16, 14, 14]     [32, 32, 7, 7]       --                   --                   True\n",
              "│    │    └─Conv2d: 3-4                  [32, 16, 14, 14]     [32, 32, 14, 14]     4,640                [3, 3]               True\n",
              "│    │    └─AvgPool2d: 3-5               [32, 32, 14, 14]     [32, 32, 7, 7]       --                   2                    --\n",
              "│    │    └─Tanh: 3-6                    [32, 32, 7, 7]       [32, 32, 7, 7]       --                   --                   --\n",
              "│    └─Conv2d: 2-3                       [32, 32, 7, 7]       [32, 16, 7, 7]       4,624                [3, 3]               True\n",
              "├─Sequential: 1-2                        [32, 16, 7, 7]       [32, 10]             --                   --                   True\n",
              "│    └─Flatten: 2-4                      [32, 16, 7, 7]       [32, 784]            --                   --                   --\n",
              "│    └─Linear: 2-5                       [32, 784]            [32, 10]             7,850                --                   True\n",
              "============================================================================================================================================\n",
              "Total params: 17,274\n",
              "Trainable params: 17,274\n",
              "Non-trainable params: 0\n",
              "Total mult-adds (M): 40.62\n",
              "============================================================================================================================================\n",
              "Input size (MB): 0.10\n",
              "Forward/backward pass size (MB): 5.02\n",
              "Params size (MB): 0.07\n",
              "Estimated Total Size (MB): 5.19\n",
              "============================================================================================================================================"
            ]
          },
          "metadata": {},
          "execution_count": 103
        }
      ]
    },
    {
      "cell_type": "code",
      "source": [
        "loss_fn = nn.CrossEntropyLoss()\n",
        "\n",
        "optimizer = torch.optim.Adam(params= model_2.parameters(), lr= 0.0002)\n",
        "torch.manual_seed(17)\n",
        "epochs = 8\n",
        "\n",
        "\n",
        "model_start_time = timer()\n",
        "for epoch in tqdm(range(epochs)):\n",
        "    print(f\"For epoch: {epoch + 1}\\n\")\n",
        "    train_step(model_2, loss_fn, optimizer, train_data_loader)\n",
        "    test_step(model_2, loss_fn, test_data_loader)\n",
        "model_end_time = timer()\n",
        "print_train_time(model_start_time, model_end_time, device)"
      ],
      "metadata": {
        "colab": {
          "base_uri": "https://localhost:8080/",
          "height": 1000,
          "referenced_widgets": [
            "41bce9f91578421192ac80d340470d62",
            "f93bc5c3756248b3a590581d2de2755d",
            "6fcb70c66b3d411bab848b6c269c88e4",
            "a6d4154f103e472ca8516239d0d0fd4d",
            "25213afded3d4b91ab4cf36db5ee7662",
            "e0041b0bb95f47d39e48d20ba62240b2",
            "ca1fbb148ec54f2fa818f48cd222fdfa",
            "235688dd19ee4ecdb9a5380c753a705f",
            "a0baf730e54244008a9a3296822b990f",
            "41e1b259c15f406faffd73151c1b70fc",
            "4a7f7c6398a84fae997f4b3961d2d44a"
          ]
        },
        "id": "nB9CYvwU-MwQ",
        "outputId": "2b82cec5-7f15-4049-f94b-f38b5b7dcf83"
      },
      "execution_count": null,
      "outputs": [
        {
          "output_type": "display_data",
          "data": {
            "text/plain": [
              "  0%|          | 0/8 [00:00<?, ?it/s]"
            ],
            "application/vnd.jupyter.widget-view+json": {
              "version_major": 2,
              "version_minor": 0,
              "model_id": "41bce9f91578421192ac80d340470d62"
            }
          },
          "metadata": {}
        },
        {
          "output_type": "stream",
          "name": "stdout",
          "text": [
            "For epoch: 1\n",
            "\n",
            "Train loss:  0.4875\n",
            "Train acc:  0.8567\n",
            "Test loss:  0.3118\n",
            "Test accuracy:  0.9092\n",
            "\n",
            "For epoch: 2\n",
            "\n",
            "Train loss:  0.3062\n",
            "Train acc:  0.9105\n",
            "Test loss:  0.2660\n",
            "Test accuracy:  0.9242\n",
            "\n",
            "For epoch: 3\n",
            "\n",
            "Train loss:  0.2695\n",
            "Train acc:  0.9206\n",
            "Test loss:  0.2360\n",
            "Test accuracy:  0.9321\n",
            "\n",
            "For epoch: 4\n",
            "\n",
            "Train loss:  0.2318\n",
            "Train acc:  0.9315\n",
            "Test loss:  0.1978\n",
            "Test accuracy:  0.9418\n",
            "\n",
            "For epoch: 5\n",
            "\n",
            "Train loss:  0.1914\n",
            "Train acc:  0.9432\n",
            "Test loss:  0.1614\n",
            "Test accuracy:  0.9510\n",
            "\n",
            "For epoch: 6\n",
            "\n",
            "Train loss:  0.1554\n",
            "Train acc:  0.9534\n",
            "Test loss:  0.1424\n",
            "Test accuracy:  0.9569\n",
            "\n",
            "For epoch: 7\n",
            "\n",
            "Train loss:  0.1299\n",
            "Train acc:  0.9607\n",
            "Test loss:  0.1069\n",
            "Test accuracy:  0.9672\n",
            "\n",
            "For epoch: 8\n",
            "\n",
            "Train loss:  0.1133\n",
            "Train acc:  0.9660\n",
            "Test loss:  0.0981\n",
            "Test accuracy:  0.9686\n",
            "\n",
            "Total time on cuda is  105.739 seconds\n"
          ]
        }
      ]
    },
    {
      "cell_type": "code",
      "source": [],
      "metadata": {
        "id": "nwonzai5-h6v"
      },
      "execution_count": null,
      "outputs": []
    }
  ]
}